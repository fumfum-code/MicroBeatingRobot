{
 "cells": [
  {
   "cell_type": "code",
   "execution_count": 1,
   "metadata": {},
   "outputs": [],
   "source": [
    "import pandas as pd\n",
    "import numpy as np\n",
    "import matplotlib.pyplot as plt\n",
    "import glob\n",
    "import re\n",
    "%matplotlib tk"
   ]
  },
  {
   "cell_type": "code",
   "execution_count": 5,
   "metadata": {},
   "outputs": [
    {
     "name": "stdout",
     "output_type": "stream",
     "text": [
      " Databank/data_displacement.csv\r\n",
      "'Databank/data_displacement_f=0.012.csv'\r\n",
      "'Databank/data_displacement_f=0.015.csv'\r\n",
      "'Databank/data_displacement_f=0.01.csv'\r\n",
      "'Databank/data_displacement_f=0.02.csv'\r\n",
      "'Databank/data_displacement_f=0.05.csv'\r\n",
      "'Databank/data_displacement_f=0.08.csv'\r\n",
      "'Databank/data_displacement_f=0.15.csv'\r\n",
      "'Databank/data_displacement_f=0.1.csv'\r\n",
      "'Databank/data_displacement_f=0.2.csv'\r\n",
      "'Databank/data_displacement_k=0.1.csv'\r\n",
      "'Databank/data_displacement_k=0.5.csv'\r\n",
      "'Databank/data_displacement_k=10.0.csv'\r\n",
      "'Databank/data_displacement_k=1.0.csv'\r\n",
      "'Databank/data_displacement_K=1.0_f=0.018.csv'\r\n",
      "'Databank/data_displacement_K=1.0_f=0.1.csv'\r\n",
      "'Databank/data_displacement_K=1.0_f=0.2.csv'\r\n",
      "'Databank/data_displacement_k=2.0.csv'\r\n",
      "'Databank/data_displacement_K=2.0_f=0.05.csv'\r\n",
      "'Databank/data_displacement_K=2.0_f=0.1.csv'\r\n",
      "'Databank/data_displacement_K=2.0_f=0.2.csv'\r\n",
      "'Databank/data_displacement_k=3.0.csv'\r\n",
      "'Databank/data_displacement_k=4.0.csv'\r\n",
      "'Databank/data_displacement_k=5.0.csv'\r\n",
      "'Databank/data_displacement_K=5.0_f=0.015.csv'\r\n",
      "'Databank/data_displacement_K=5.0_f=0.01.csv'\r\n",
      "'Databank/data_displacement_K=5.0_f=0.05.csv'\r\n",
      "'Databank/data_displacement_K=5.0_f=0.1.csv'\r\n",
      "'Databank/data_displacement_K=5.0_f=0.2.csv'\r\n",
      "'Databank/data_displacement_k=7.5.csv'\r\n",
      "'Databank/data_displacement_K=7.5_f=0.015.csv'\r\n",
      "'Databank/data_displacement_K=7.5_f=0.01.csv'\r\n",
      "'Databank/data_displacement_K=7.5_f=0.05.csv'\r\n",
      "'Databank/data_displacement_K=7.5_f=0.1.csv'\r\n"
     ]
    }
   ],
   "source": [
    "ls Databank/data_dis*"
   ]
  },
  {
   "cell_type": "code",
   "execution_count": 16,
   "metadata": {},
   "outputs": [],
   "source": [
    "path = \"/home/tokoro/Desktop/MicroBeatingRobot/MicroBeatingRobot/Databank\"\n",
    "files_fk = glob.glob(path + \"/data_displacement_K*.csv\")\n",
    "\n",
    "for data in files_fk:\n",
    "    df = pd.read_csv(data)                                                                              \n",
    "\n",
    "    fig, ax = plt.subplots()                                                                                                                                                                               \n",
    "    ax.set_title(data[71:-4])                                                                                                                                                                           \n",
    "    plt.plot(df.loc[1:,'step'], df.loc[1:,'displacement_x'], color = 'r', label = \"x displacement\")                                                                                                        \n",
    "    plt.plot(df.loc[1:,'step'], df.loc[1:,'displacement_y'], color = 'b', label = \"y displacement\")                                                                                                        \n",
    "    ax.legend(loc = 0)                                                                                                                                                                                     \n",
    "    fig.savefig(f\"graph/{data[71:-4]}.png\")                                                                                                                                  \n",
    "    plt.show()                                                            "
   ]
  },
  {
   "cell_type": "code",
   "execution_count": 15,
   "metadata": {},
   "outputs": [
    {
     "data": {
      "text/plain": [
       "'displacement_K=7.5_f=0.05'"
      ]
     },
     "execution_count": 15,
     "metadata": {},
     "output_type": "execute_result"
    }
   ],
   "source": []
  },
  {
   "cell_type": "code",
   "execution_count": null,
   "metadata": {},
   "outputs": [],
   "source": []
  }
 ],
 "metadata": {
  "kernelspec": {
   "display_name": "Python 3",
   "language": "python",
   "name": "python3"
  },
  "language_info": {
   "codemirror_mode": {
    "name": "ipython",
    "version": 3
   },
   "file_extension": ".py",
   "mimetype": "text/x-python",
   "name": "python",
   "nbconvert_exporter": "python",
   "pygments_lexer": "ipython3",
   "version": "3.8.10"
  }
 },
 "nbformat": 4,
 "nbformat_minor": 4
}
